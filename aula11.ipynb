{
 "cells": [
  {
   "cell_type": "code",
   "execution_count": 6,
   "metadata": {},
   "outputs": [
    {
     "name": "stdout",
     "output_type": "stream",
     "text": [
      "a media é:2.0\n"
     ]
    }
   ],
   "source": [
    "def alunos(a,b,c):\n",
    "    media = (a + b + c) / 3\n",
    "    return media\n",
    "\n",
    "a = float(input('digite uma nota' ))\n",
    "b = float(input('digite outra nota' ))\n",
    "c = float(input('digite mais uma nota' ))\n",
    "\n",
    "nota = alunos(a,b,c)\n",
    "print(f'a media é:{nota}')\n",
    "\n"
   ]
  },
  {
   "cell_type": "code",
   "execution_count": 15,
   "metadata": {},
   "outputs": [
    {
     "name": "stdout",
     "output_type": "stream",
     "text": [
      "é par\n"
     ]
    }
   ],
   "source": [
    "def num(x):\n",
    "    if x % 2 == 0:\n",
    "        return 'é par'\n",
    "        \n",
    "    else:\n",
    "        return 'é impar'\n",
    "        \n",
    "        \n",
    "    \n",
    "x = int(input('digite um numero'))\n",
    "\n",
    "resultado = num(x)\n",
    "print(resultado)\n",
    "\n"
   ]
  },
  {
   "cell_type": "code",
   "execution_count": 16,
   "metadata": {},
   "outputs": [
    {
     "name": "stdout",
     "output_type": "stream",
     "text": [
      "[2, 4, 6, 8, 10]\n"
     ]
    }
   ],
   "source": [
    "def pares(lista):\n",
    "   pares = []\n",
    "   for i in lista:\n",
    "      if i % 2 == 0:\n",
    "         pares.append(i)\n",
    "   return pares\n",
    "\n",
    "lista = [1, 2, 3, 4, 5, 6, 7, 8, 9, 10]\n",
    "k = pares(lista)\n",
    "print(k)"
   ]
  }
 ],
 "metadata": {
  "kernelspec": {
   "display_name": "venv",
   "language": "python",
   "name": "python3"
  },
  "language_info": {
   "codemirror_mode": {
    "name": "ipython",
    "version": 3
   },
   "file_extension": ".py",
   "mimetype": "text/x-python",
   "name": "python",
   "nbconvert_exporter": "python",
   "pygments_lexer": "ipython3",
   "version": "3.12.6"
  }
 },
 "nbformat": 4,
 "nbformat_minor": 2
}
