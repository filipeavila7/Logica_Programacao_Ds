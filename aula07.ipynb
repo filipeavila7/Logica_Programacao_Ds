{
 "cells": [
  {
   "cell_type": "markdown",
   "metadata": {},
   "source": [
    "# aula 07\n",
    "**###### cabeçalho tamano 6**\n",
    "1. primeiro item\n",
    "2. segundo item\n",
    "- item 1\n",
    "   - daora\n",
    "- item 2\n",
    "   - shipin\n",
    "###### - patock\n",
    "- shipin\n",
    "\n",
    "- lista não ordenada \n",
    "   - segundo\n",
    "\n",
    "[gitzadas](https://github.com/)\n",
    "\n",
    "![imagem](https://miro.medium.com/v2/resize:fit:1125/1*biIy42Cn4Bnu0IkpUW1Zew.png)\n",
    "\n",
    "![tarnished](https://encrypted-tbn0.gstatic.com/images?q=tbn:ANd9GcSvmDIERCRfXcgko8IkBtLPmxnSzURaeq700w&s)"
   ]
  },
  {
   "cell_type": "code",
   "execution_count": 53,
   "metadata": {},
   "outputs": [
    {
     "name": "stdout",
     "output_type": "stream",
     "text": [
      "1º shipin\n",
      "2º patock\n",
      "3º shipadas\n"
     ]
    }
   ],
   "source": [
    "nome = ['shipin','patock','shipadas']\n",
    "num = 1\n",
    "for i, j in enumerate(nome):\n",
    "    print(f'{i+1}º {j}')\n",
    "   \n"
   ]
  },
  {
   "cell_type": "code",
   "execution_count": 54,
   "metadata": {},
   "outputs": [
    {
     "name": "stdout",
     "output_type": "stream",
     "text": [
      "s\n",
      "h\n",
      "i\n",
      "p\n",
      "i\n",
      "n\n"
     ]
    }
   ],
   "source": [
    "nome = 'shipin'\n",
    "for i in (nome):\n",
    "    print(i)\n",
    "\n",
    "   "
   ]
  },
  {
   "cell_type": "code",
   "execution_count": 55,
   "metadata": {},
   "outputs": [
    {
     "name": "stdout",
     "output_type": "stream",
     "text": [
      "0\n",
      "3\n",
      "6\n",
      "9\n"
     ]
    }
   ],
   "source": [
    "for i in range(0, 10 , +3):\n",
    "    print(i)"
   ]
  },
  {
   "cell_type": "code",
   "execution_count": 56,
   "metadata": {},
   "outputs": [
    {
     "ename": "ValueError",
     "evalue": "invalid literal for int() with base 10: ''",
     "output_type": "error",
     "traceback": [
      "\u001b[1;31m---------------------------------------------------------------------------\u001b[0m",
      "\u001b[1;31mValueError\u001b[0m                                Traceback (most recent call last)",
      "Cell \u001b[1;32mIn[56], line 1\u001b[0m\n\u001b[1;32m----> 1\u001b[0m inicio \u001b[38;5;241m=\u001b[39m \u001b[38;5;28;43mint\u001b[39;49m\u001b[43m(\u001b[49m\u001b[38;5;28;43minput\u001b[39;49m\u001b[43m(\u001b[49m\u001b[38;5;124;43m'\u001b[39;49m\u001b[38;5;124;43mdigite o numero que comeca a contagem\u001b[39;49m\u001b[38;5;124;43m'\u001b[39;49m\u001b[43m)\u001b[49m\u001b[43m)\u001b[49m\n\u001b[0;32m      2\u001b[0m fim \u001b[38;5;241m=\u001b[39m \u001b[38;5;28mint\u001b[39m(\u001b[38;5;28minput\u001b[39m(\u001b[38;5;124m'\u001b[39m\u001b[38;5;124mdigite o numero que termina a contagem\u001b[39m\u001b[38;5;124m'\u001b[39m))\n\u001b[0;32m      3\u001b[0m \u001b[38;5;28;01mfor\u001b[39;00m i \u001b[38;5;129;01min\u001b[39;00m \u001b[38;5;28mrange\u001b[39m(inicio,fim \u001b[38;5;241m+\u001b[39m\u001b[38;5;241m1\u001b[39m):\n",
      "\u001b[1;31mValueError\u001b[0m: invalid literal for int() with base 10: ''"
     ]
    }
   ],
   "source": [
    "inicio = int(input('digite o numero que comeca a contagem'))\n",
    "fim = int(input('digite o numero que termina a contagem'))\n",
    "for i in range(inicio,fim +1):\n",
    "    print(i)"
   ]
  },
  {
   "cell_type": "code",
   "execution_count": null,
   "metadata": {},
   "outputs": [
    {
     "name": "stdout",
     "output_type": "stream",
     "text": [
      "0\n",
      "===\n",
      "2\n",
      "===\n",
      "4\n",
      "===\n",
      "6\n",
      "===\n",
      "8\n",
      "===\n",
      "10\n",
      "===\n",
      "12\n",
      "===\n",
      "14\n",
      "===\n",
      "16\n",
      "===\n",
      "18\n",
      "===\n",
      "20\n"
     ]
    }
   ],
   "source": [
    "for i in range(0,21):\n",
    "    if i % 2 == 0:\n",
    "        print(i)\n",
    "    else:\n",
    "        print('===')\n"
   ]
  },
  {
   "cell_type": "code",
   "execution_count": null,
   "metadata": {},
   "outputs": [
    {
     "name": "stdout",
     "output_type": "stream",
     "text": [
      "===\n",
      "1\n",
      "===\n",
      "3\n",
      "===\n",
      "5\n",
      "===\n",
      "7\n",
      "===\n",
      "9\n",
      "===\n",
      "11\n",
      "===\n",
      "13\n",
      "===\n",
      "15\n",
      "===\n",
      "17\n",
      "===\n",
      "19\n",
      "===\n"
     ]
    }
   ],
   "source": [
    "for i in range(0,21):\n",
    "    if i % 2 != 0:\n",
    "        print(i)\n",
    "    else:\n",
    "        print('===')\n"
   ]
  },
  {
   "cell_type": "code",
   "execution_count": 64,
   "metadata": {},
   "outputs": [
    {
     "name": "stdout",
     "output_type": "stream",
     "text": [
      "2 x 0 = 0\n",
      "2 x 1 = 2\n",
      "2 x 2 = 4\n",
      "2 x 3 = 6\n",
      "2 x 4 = 8\n",
      "2 x 5 = 10\n",
      "2 x 6 = 12\n",
      "2 x 7 = 14\n",
      "2 x 8 = 16\n",
      "2 x 9 = 18\n",
      "2 x 10 = 20\n"
     ]
    }
   ],
   "source": [
    "x = int(input('digite um numero da tabuada:'))\n",
    "for i in range(0,11):\n",
    "    print(f'{x} x {i} = {x * i}')"
   ]
  },
  {
   "cell_type": "code",
   "execution_count": 69,
   "metadata": {},
   "outputs": [
    {
     "name": "stdout",
     "output_type": "stream",
     "text": [
      "nao encontrado\n",
      "deca\n",
      "nao encontrado\n",
      "nao encontrado\n",
      "nao encontrado\n"
     ]
    }
   ],
   "source": [
    "lista = ['durateston', 'deca', 'testo', 'gh','whey']\n",
    "\n",
    "for i in lista: \n",
    "    if i  == 'deca':\n",
    "        print(i)\n",
    "    else:\n",
    "        print('nao encontrado')"
   ]
  },
  {
   "cell_type": "code",
   "execution_count": 77,
   "metadata": {},
   "outputs": [
    {
     "name": "stdout",
     "output_type": "stream",
     "text": [
      "2\n",
      "1\n",
      "0\n",
      "auto destruição da máquina!\n"
     ]
    }
   ],
   "source": [
    "from time import sleep \n",
    "import os\n",
    "\n",
    "x = int(input('digite o numero de segundos da contagem regressiva'))\n",
    "for i in range(x,-1, -1):\n",
    "    print(i)\n",
    "    sleep(1)\n",
    "    os.system('cls')\n",
    "print('auto destruição da máquina!')"
   ]
  },
  {
   "cell_type": "code",
   "execution_count": 79,
   "metadata": {},
   "outputs": [
    {
     "name": "stdout",
     "output_type": "stream",
     "text": [
      "===\n",
      "1\n",
      "===\n",
      "3\n",
      "===\n",
      "5\n",
      "===\n",
      "7\n",
      "===\n",
      "9\n",
      "===\n",
      "11\n",
      "===\n",
      "13\n",
      "===\n",
      "15\n",
      "===\n",
      "17\n",
      "===\n",
      "19\n",
      "===\n",
      "21\n",
      "===\n",
      "23\n",
      "===\n",
      "25\n",
      "===\n",
      "27\n",
      "===\n",
      "29\n",
      "===\n",
      "31\n",
      "===\n",
      "33\n",
      "===\n",
      "35\n",
      "===\n",
      "37\n",
      "===\n",
      "39\n",
      "===\n",
      "41\n",
      "===\n",
      "43\n",
      "===\n",
      "45\n",
      "===\n",
      "47\n",
      "===\n",
      "49\n",
      "===\n",
      "51\n",
      "===\n",
      "53\n",
      "===\n",
      "55\n",
      "===\n",
      "57\n",
      "===\n",
      "59\n",
      "===\n",
      "61\n",
      "===\n",
      "63\n",
      "===\n",
      "65\n",
      "===\n",
      "67\n",
      "===\n",
      "69\n",
      "===\n",
      "71\n",
      "===\n",
      "73\n",
      "===\n",
      "75\n",
      "===\n",
      "77\n",
      "===\n",
      "79\n",
      "===\n",
      "81\n",
      "===\n",
      "83\n",
      "===\n",
      "85\n",
      "===\n",
      "87\n",
      "===\n",
      "89\n",
      "===\n",
      "91\n",
      "===\n",
      "93\n",
      "===\n",
      "95\n",
      "===\n",
      "97\n",
      "===\n",
      "99\n"
     ]
    }
   ],
   "source": [
    "for i in range(0,100):\n",
    "    if i % 2 != 0:\n",
    "        print(i)\n",
    "    else:\n",
    "        print('===')\n"
   ]
  }
 ],
 "metadata": {
  "kernelspec": {
   "display_name": "venv",
   "language": "python",
   "name": "python3"
  },
  "language_info": {
   "codemirror_mode": {
    "name": "ipython",
    "version": 3
   },
   "file_extension": ".py",
   "mimetype": "text/x-python",
   "name": "python",
   "nbconvert_exporter": "python",
   "pygments_lexer": "ipython3",
   "version": "3.12.6"
  }
 },
 "nbformat": 4,
 "nbformat_minor": 2
}
