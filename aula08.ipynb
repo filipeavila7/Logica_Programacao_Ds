{
 "cells": [
  {
   "cell_type": "code",
   "execution_count": 17,
   "metadata": {},
   "outputs": [
    {
     "name": "stdout",
     "output_type": "stream",
     "text": [
      "         **\n",
      "        ****\n",
      "       ******\n",
      "      ********\n",
      "     **********\n",
      "    ************\n",
      "   **************\n",
      "  ****************\n",
      " ******************\n"
     ]
    }
   ],
   "source": [
    "altura = int(input('digite a altura:'))\n",
    "\n",
    "for i in range(1, altura):\n",
    "    for _ in range(altura - i):\n",
    "        print(' ', end='')\n",
    "   \n",
    "    for _ in range(i):\n",
    "        print('**', end='')\n",
    "    \n",
    "    print()\n",
    "\n",
    "\n",
    "     "
   ]
  },
  {
   "cell_type": "code",
   "execution_count": 33,
   "metadata": {},
   "outputs": [
    {
     "name": "stdout",
     "output_type": "stream",
     "text": [
      "encontrei\n"
     ]
    }
   ],
   "source": [
    "contador = ['shipin', 'patock', 'shipadas']\n",
    "while True:\n",
    "    if 'shipin' in contador:\n",
    "     print('encontrei')\n",
    "     break\n"
   ]
  },
  {
   "cell_type": "code",
   "execution_count": 35,
   "metadata": {},
   "outputs": [
    {
     "name": "stdout",
     "output_type": "stream",
     "text": [
      "['shipin', 's', 'fert', 'trtyt']\n"
     ]
    }
   ],
   "source": [
    "listanm = []\n",
    "while True:\n",
    "    nome = input('digite um nome ou enter para finalizar')\n",
    "    if nome != '':\n",
    "     listanm.append(nome)\n",
    "    else:\n",
    "       break\n",
    "print(listanm)"
   ]
  },
  {
   "cell_type": "code",
   "execution_count": 37,
   "metadata": {},
   "outputs": [
    {
     "name": "stdout",
     "output_type": "stream",
     "text": [
      "['12', '343', '21', '23']\n"
     ]
    }
   ],
   "source": [
    "nota = []\n",
    "\n",
    "while True:\n",
    "    notas = input('digite uma nota:')\n",
    "    \n",
    "    if notas != '':\n",
    "        nota.append(notas)\n",
    "    else:\n",
    "        break\n",
    "print(nota)"
   ]
  },
  {
   "cell_type": "code",
   "execution_count": 47,
   "metadata": {},
   "outputs": [
    {
     "name": "stdout",
     "output_type": "stream",
     "text": [
      "=\n",
      "===\n",
      "=====\n",
      "=======\n",
      "=========\n",
      "===========\n",
      "=============\n",
      "===============\n",
      "=================\n",
      "===================\n"
     ]
    }
   ],
   "source": [
    "while True:\n",
    "    altura = int(input('digite a altura da escada:'))\n",
    "\n",
    "    if altura > 1:\n",
    "        break\n",
    "\n",
    "for i in range(altura):  \n",
    "    print('' * (altura - (i + 1)) + '=' * (2*i + 1))"
   ]
  },
  {
   "cell_type": "code",
   "execution_count": null,
   "metadata": {},
   "outputs": [],
   "source": [
    "while True:\n",
    "    print('1. cadastrar usuário')\n",
    "    print('2 . listar usuário')\n",
    "    print('3. excluir usuário:')\n",
    "    print(\"4. sair\")"
   ]
  }
 ],
 "metadata": {
  "kernelspec": {
   "display_name": "venv",
   "language": "python",
   "name": "python3"
  },
  "language_info": {
   "codemirror_mode": {
    "name": "ipython",
    "version": 3
   },
   "file_extension": ".py",
   "mimetype": "text/x-python",
   "name": "python",
   "nbconvert_exporter": "python",
   "pygments_lexer": "ipython3",
   "version": "3.12.6"
  }
 },
 "nbformat": 4,
 "nbformat_minor": 2
}
