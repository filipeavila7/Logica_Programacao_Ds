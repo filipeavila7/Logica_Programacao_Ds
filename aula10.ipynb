{
 "cells": [
  {
   "cell_type": "code",
   "execution_count": 16,
   "metadata": {},
   "outputs": [
    {
     "name": "stdout",
     "output_type": "stream",
     "text": [
      "AMEOPOEMA AMEOPOEMA\n",
      "é um palindromo\n"
     ]
    }
   ],
   "source": [
    "frase = str(input('digite uma palvra ou frase')).strip().upper()\n",
    "\n",
    "\n",
    "palavras = frase.split()\n",
    "caracter = ''.join(palavras)\n",
    "invertida = ''\n",
    "for i in range(len(caracter)-1,-1,-1):\n",
    "    invertida += caracter[i]\n",
    "print(caracter, invertida)\n",
    "\n",
    "\n",
    "if invertida == caracter:\n",
    "    print('é um palindromo')\n",
    "else:\n",
    "    print('não é um palindromo')\n",
    "\n"
   ]
  },
  {
   "cell_type": "code",
   "execution_count": 19,
   "metadata": {},
   "outputs": [
    {
     "name": "stdout",
     "output_type": "stream",
     "text": [
      "1.90\n"
     ]
    }
   ],
   "source": [
    "altura = input('digite o seu cpf:').replace(',','.')\n",
    "print(altura)"
   ]
  },
  {
   "cell_type": "code",
   "execution_count": 22,
   "metadata": {},
   "outputs": [
    {
     "name": "stdout",
     "output_type": "stream",
     "text": [
      "cpf : 111.111.111-111111111\n"
     ]
    }
   ],
   "source": [
    "cpf = input('digite seu cpf:')\n",
    "print(f'cpf : {cpf[:3]}.{cpf[3:6]}.{cpf[6:9]}-{cpf[9:]}')"
   ]
  },
  {
   "cell_type": "code",
   "execution_count": 33,
   "metadata": {},
   "outputs": [
    {
     "name": "stdout",
     "output_type": "stream",
     "text": [
      "{'pao': 'R$ 1,99', 'acucar': 'R$ 4,99', 'cafe': 'R$ 3,99'}\n"
     ]
    }
   ],
   "source": [
    "dicionario = dict( \n",
    " pao = 'R$ 1,99', \n",
    " acucar = 'R$ 4,99',\n",
    " cafe = 'R$ 3,99'\n",
    ")\n",
    "print(dicionario)"
   ]
  },
  {
   "cell_type": "code",
   "execution_count": 43,
   "metadata": {},
   "outputs": [
    {
     "name": "stdout",
     "output_type": "stream",
     "text": [
      "codigo: 100\n",
      "nome: chocolate\n",
      "preço: 5.0\n",
      "estoque: 10\n",
      "==============================\n",
      "codigo: 101\n",
      "nome: açucar\n",
      "preço: 7.0\n",
      "estoque: 8\n",
      "==============================\n",
      "codigo: 102\n",
      "nome: cafe\n",
      "preço: 4.0\n",
      "estoque: 13\n",
      "==============================\n",
      "açucar\n"
     ]
    },
    {
     "ename": "AttributeError",
     "evalue": "'str' object has no attribute 'itens'",
     "output_type": "error",
     "traceback": [
      "\u001b[1;31m---------------------------------------------------------------------------\u001b[0m",
      "\u001b[1;31mAttributeError\u001b[0m                            Traceback (most recent call last)",
      "Cell \u001b[1;32mIn[43], line 19\u001b[0m\n\u001b[0;32m     16\u001b[0m \u001b[38;5;66;03m#chamar produto especifico\u001b[39;00m\n\u001b[0;32m     17\u001b[0m \u001b[38;5;28mprint\u001b[39m(produtos[\u001b[38;5;241m101\u001b[39m][\u001b[38;5;124m'\u001b[39m\u001b[38;5;124mnome\u001b[39m\u001b[38;5;124m'\u001b[39m])\n\u001b[1;32m---> 19\u001b[0m \u001b[38;5;28mprint\u001b[39m(\u001b[43mprodutos\u001b[49m\u001b[43m[\u001b[49m\u001b[38;5;241;43m101\u001b[39;49m\u001b[43m]\u001b[49m\u001b[43m[\u001b[49m\u001b[38;5;124;43m'\u001b[39;49m\u001b[38;5;124;43mnome\u001b[39;49m\u001b[38;5;124;43m'\u001b[39;49m\u001b[43m]\u001b[49m\u001b[38;5;241;43m.\u001b[39;49m\u001b[43mitens\u001b[49m())\n",
      "\u001b[1;31mAttributeError\u001b[0m: 'str' object has no attribute 'itens'"
     ]
    }
   ],
   "source": [
    "produtos = {\n",
    "    100: {'nome': 'chocolate', 'preco' : 5.00, 'estoque': 10},\n",
    "    101: {'nome': 'açucar', 'preco' : 7.00, 'estoque': 8},\n",
    "    102: {'nome': 'cafe', 'preco' : 4.00, 'estoque': 13}\n",
    "}\n",
    "\n",
    "# variavel codigo para os codigos do dicionario, e info para oq ta dentro junto com .itens\n",
    "for codigo, info in produtos.items():\n",
    "    print(f'codigo: {codigo}')\n",
    "    print(f'nome: {info['nome']}')\n",
    "    print(f'preço: {info['preco']}')\n",
    "    print(f'estoque: {info['estoque']}')\n",
    "    print(30*'=')\n",
    "\n",
    "\n",
    "#chamar produto especifico\n",
    "print(produtos[101]['nome'])\n",
    "\n",
    "\n",
    "\n"
   ]
  }
 ],
 "metadata": {
  "kernelspec": {
   "display_name": "venv",
   "language": "python",
   "name": "python3"
  },
  "language_info": {
   "codemirror_mode": {
    "name": "ipython",
    "version": 3
   },
   "file_extension": ".py",
   "mimetype": "text/x-python",
   "name": "python",
   "nbconvert_exporter": "python",
   "pygments_lexer": "ipython3",
   "version": "3.12.6"
  }
 },
 "nbformat": 4,
 "nbformat_minor": 2
}
